import serial, time
import mysql.connector
from mysql.connector import Error
import time
passcar=0
x=0
carmin1=0
ser = serial.Serial()
ser.port = "COM5"
#115200,N,8,1
ser.baudrate = 1200 Baud Rate
ser.bytesize = serial.EIGHTBITS #number of bits per bytes
ser.parity = serial.PARITY_NONE #set parity check
ser.stopbits = serial.STOPBITS_ONE #number of stop bits
  
ser.timeout = 0.5          #non-block read 0.5s
ser.writeTimeout = 0.5     #timeout for write 0.5s
ser.xonxoff = False    #disable software flow control
ser.rtscts = False     #disable hardware (RTS/CTS) flow control
ser.dsrdtr = False     #disable hardware (DSR/DTR) flow control

try:
    # 連接 MySQL/MariaDB 資料庫
    connection = mysql.connector.connect(
        host='192.168.0.3',          # 主機名稱
        database='8051project', # 資料庫名稱
        user='picdarcy',        # 帳號
        password='nethouse110')  # 密碼

    if connection.is_connected():

        # 顯示資料庫版本
        db_Info = connection.get_server_info()
        print("資料庫版本：", db_Info)

        # 顯示目前使用的資料庫
        cursor = connection.cursor()
        cursor.execute("SELECT DATABASE();")
        record = cursor.fetchone()
        print("目前使用的資料庫：", record)

except Error as e:
    print("資料庫連接失敗：", e)

# 查詢資料庫
cursor = connection.cursor()
cursor.execute("SELECT SUM(Car) FROM 8051project.passcar;")
passcar = cursor.fetchone()[0]

# 列出查詢的資料
for (ID,Car,passtime) in cursor:
    print("ID: %d, Car: %s,Passtime: %s" % (ID,Car,passtime))
try: 
    ser.open()
except Exception as ex:
    print ("open serial port error " + str(ex))
    exit()
if ser.isOpen():
    try:
        try:
            while True:
                carmin1=0
                ser.flushInput() #flush input buffer
                ser.flushOutput() #flush output buffer
                time.sleep(0.1)  #wait 0.1s
                #read 8 byte data
                response = ser.readline()
                response=response.strip()
                print("已通過車輛:"+ str(passcar),end='\r')
                if x<=600:
                    x=x+1
                    if response == b'P':
                        passcar=passcar+1
                        carmin1=carmin1+1
                        print("已通過車輛:"+ str(passcar),end='\r')
                        # 新增資料
                        sql = "INSERT INTO 8051project.passcar ( Car,passtime,carmin) VALUES ( %s,%s, %s);"
                        new_data = ( 1, time.strftime("%Y-%m-%d %H:%M:%S"),0)
                        cursor = connection.cursor()
                        cursor.execute(sql, new_data)
                        # 確認資料有存入資料庫
                        connection.commit()
                else:
                    sql = "INSERT INTO 8051project.passcar ( Car,Carmin,passtime) VALUES (%s, %s,%s);"
                    new_data = ( 0,carmin1, time.strftime("%Y-%m-%d %H:%M:%S"))
                    cursor = connection.cursor()
                    cursor.execute(sql, new_data)
                    connection.commit()
                    carmin1=0
                    x=0
        except KeyboardInterrupt:
            ser.close()
            print('中斷連線！')
            if (connection.is_connected()):
                cursor.close()
                connection.close()
                print("資料庫連線已關閉")
            else:
                print("資料庫連線本就關閉")
    except Exception as e1:
            print ("communicating error " + str(e1))
    
else:
        print ("open serial port error")
        if (connection.is_connected()):
            cursor.close()
            connection.close()
            print("資料庫連線已關閉")
        else:
            print("資料庫連線本就關閉")
        
